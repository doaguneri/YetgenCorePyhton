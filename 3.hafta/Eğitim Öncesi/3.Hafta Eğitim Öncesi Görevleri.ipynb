{
  "cells": [
    {
      "cell_type": "markdown",
      "metadata": {
        "id": "tsD4YVAe_Te2"
      },
      "source": [
        "# Problem 1\n",
        "Bir sayının 7'ye bölünebilir olup olmadığını kontrol etmek \n",
        "için bir program yazın.\n",
        "\n",
        "İpucu: Mod operatörünü (%) kullanabilirsiniz."
      ]
    },
    {
      "cell_type": "code",
      "execution_count": 6,
      "metadata": {
        "id": "NGjvNwKx_Te7"
      },
      "outputs": [
        {
          "name": "stdout",
          "output_type": "stream",
          "text": [
            "63 7'ye kalansız bölünebiliyor\n"
          ]
        }
      ],
      "source": [
        "# 1.Problemin Çözümünü Buraya Yazınız\n",
        "sayi = int(input(\"bir sayı giriniz:\"))\n",
        "if sayi % 7 == 0:\n",
        "    print(f\"{sayi} sayısı 7'ye kalansız bölünebiliyor\")\n",
        "else:\n",
        "    print(f\"{sayi} sayısı 7'ye kalansız bölünemiyor\")"
      ]
    },
    {
      "cell_type": "markdown",
      "metadata": {
        "id": "Kg3qiBAI_Te8"
      },
      "source": [
        "# Problem 2\n",
        "Kullanıcıdan vize ve final notu isteyin. Girilen vize notunun %40’ı ve \n",
        "girilen finalnotunun ise %60’ı alınarak yıl sonu not ortalaması hesaplanacaktır. \n",
        "\n",
        "Bu not ortalaması eğer 85 ve üzeri ise AA, \n",
        "\n",
        "75 ve 85 arasında ise BA, \n",
        "\n",
        "70 ve 75 arasında ise BB, \n",
        "\n",
        "65 ve 70 arasında ise CB,\n",
        "\n",
        "60 ve 65 arasında ise CC,\n",
        "\n",
        "55 ve 60 arasında ise DC,\n",
        "\n",
        "50 ve 55 arasında ise DD olarak hesaplanacaktır. \n",
        "\n",
        "Bu öğrencinin yıl sonu toplam notu 50’nin altında ise FF ile dersten kalacaktır. \n",
        "\n",
        "Ayrıca öğrencinin final notu 50’nin altında ise direkt FF ile kalacaktır."
      ]
    },
    {
      "cell_type": "code",
      "execution_count": 51,
      "metadata": {
        "id": "MXTtCxI1_Te8"
      },
      "outputs": [
        {
          "name": "stdout",
          "output_type": "stream",
          "text": [
            "DC\n"
          ]
        }
      ],
      "source": [
        "# 2.Problemin Çözümünü Buraya Yazınız\n",
        "\n",
        "vizeNotu = int(input(\"vize notunuzu giriniz:\"))\n",
        "finalNotu = int(input(\"final notunuzu giriniz:\"))\n",
        "yilSonuNotu = vizeNotu*0.4 + finalNotu*0.6\n",
        "# deneme yaptım çalışıyor mu diye print(yilSonuNotu) \n",
        " \n",
        "if yilSonuNotu >= 85:\n",
        "    print(\"AA\")\n",
        "elif finalNotu < 50:\n",
        "    print(\"FF aldınız ve dersten kaldınız.\")\n",
        "elif yilSonuNotu < 85 and yilSonuNotu >= 75:\n",
        "    print(\"BA\")\n",
        "elif yilSonuNotu < 75 and yilSonuNotu >= 70:\n",
        "    print(\"BB\")\n",
        "elif yilSonuNotu < 70 and yilSonuNotu >= 65:\n",
        "    print(\"CB\")\n",
        "elif yilSonuNotu < 65 and yilSonuNotu >= 60:\n",
        "    print(\"CC\")\n",
        "elif yilSonuNotu < 60 and yilSonuNotu >= 55:\n",
        "    print(\"DC\")\n",
        "elif yilSonuNotu < 55 and yilSonuNotu >= 50:\n",
        "    print(\"DD\")\n",
        "elif yilSonuNotu < 50:\n",
        "    print(\"FF aldınız ve dersten kaldınız\")\n",
        "\n",
        "\n"
      ]
    },
    {
      "cell_type": "markdown",
      "metadata": {
        "id": "tAoRYCTC_Te8"
      },
      "source": [
        "# Problem 3\n",
        "İki YetGenli Zirve'de karşılaşıyorlar. Birbirlerini tanımak için sorular soruyorlar. Birbirlerine yaşlarını soruyorlar. Akıllarına bir Python programı yazıp, yaşlarını ve isimlerini giriyorlar. Büyük olanın yaşını ekrana yazdıran programı yazıyorlar. Sende bu iki YetGenli'ye destek olmak ister misin?\n",
        "\n",
        "```\n",
        "Birinci YetGenlinin ismi: Ahmet\n",
        "Birinci YetGenlinin yaşı : 20\n",
        "İkinci YetGenlinin ismi: Mehmet\n",
        "İkinci YetGenlinin yaşı : 25\n",
        "Mehmet'in yaşı daha büyük ve yaşı 25'tir.\n",
        "```"
      ]
    },
    {
      "cell_type": "code",
      "execution_count": 2,
      "metadata": {
        "id": "bPjE8W0i_Te8"
      },
      "outputs": [
        {
          "name": "stdout",
          "output_type": "stream",
          "text": [
            "doğa ve reyhan'nin yaşları eşittir.\n"
          ]
        }
      ],
      "source": [
        "# 3.Problemin Çözümünü Buraya Yazınız\n",
        "birinciYetgenliIsmi = str(input(\"hey birinci yetgenli ismin ne ?:\"))\n",
        "birinciYetgenliyasi = int(input(\"peki birinci yetgenli, yaşın kaç?\"))\n",
        "ikinciYetgenliIsmi = str(input(\"hey ikinci yetgenli ismin ne ?:\"))\n",
        "ikinciYetgenliyasi = int(input(\"peki ikinci yetgenli, yaşın kaç?\"))\n",
        "if birinciYetgenliyasi > ikinciYetgenliyasi:\n",
        "    print(f\"{birinciYetgenliIsmi} daha büyük ve yaşı {birinciYetgenliyasi} dir.\")\n",
        "elif birinciYetgenliyasi < ikinciYetgenliyasi:\n",
        "    print(f\"{ikinciYetgenliIsmi} daha büyük ve yaşı {ikinciYetgenliyasi} dir.\")\n",
        "else:\n",
        "    print(f\"{birinciYetgenliIsmi} ve {ikinciYetgenliIsmi}'nin yaşları eşittir.\")\n",
        "\n",
        "\n"
      ]
    },
    {
      "cell_type": "markdown",
      "metadata": {
        "id": "zBVv8Tyg_Te9"
      },
      "source": [
        "# Problem 4\n",
        "Pandemi döneminde AVM'lerde ateş ölçümü yapılıyor. AVM'ye giren kişinin ateş ölçümü 37.5 derecenin altında ise girişe izin veriliyor. 37.5 derecenin üstünde ise girişe izin verilmiyor. AVM'ye girişe izin verilip verilmediğini ekrana yazdıran bir program yazın.\n",
        "\n",
        "Program sonunda şöyle bir çıktı elde etmelisiniz:\n",
        "\n",
        "```\n",
        "Ateşiniz 37.5 derece. AVM'ye girebilirsin! Maske takmayı unutma!\n",
        "Ateşiniz 37.6 derece. AVM'ye giremezsin! Hemen evine dön!\n",
        "```"
      ]
    },
    {
      "cell_type": "code",
      "execution_count": 10,
      "metadata": {
        "id": "TSAXs8et_Te9"
      },
      "outputs": [
        {
          "name": "stdout",
          "output_type": "stream",
          "text": [
            "ateşiniz 10.0 derece. AVM'ye girebilirsin! Maske takmayı unutma!\n"
          ]
        }
      ],
      "source": [
        "# 4.Problemin Çözümünü Buraya Yazınız\n",
        "ates= float(input(\"ateş ölçünüzü giriniz:\"))\n",
        "if ates <= 37.5: \n",
        "    print(f\"ateşiniz {ates} derece. AVM'ye girebilirsin! Maske takmayı unutma!\")\n",
        "else:\n",
        "    print(f\"ateşiniz {ates} derece.AVM'ye giremezsin! Hemen evine dön!\")"
      ]
    },
    {
      "cell_type": "markdown",
      "metadata": {
        "id": "6AEkZrDt_Te9"
      },
      "source": [
        "# Problem 5\n",
        "YetGen bir spor kulübüyle sponsorluk anlaşması yapıyor. Kulüp, sponsorluk anlaşmasına göre her YetGen liderinin beden kitle indeksini hesaplamak istiyor. Spor kulübü, beden kitle indeksini hesaplamak için YetGen Jump Python liderlerinden Berkcan ve Ahmet'i arıyor. Berkcan ve Ahmet, kulübe yardımcı olmak için bir Python programı yazıyorlar. Sende bu iki YetGen liderine destek olmak ister misin?\n",
        "\n",
        "Kullanıcıdan alınan boy ve kilo değerlerine göre beden kitle indeksini hesaplayın ve şu kurallara göre ekrana şu yazıları yazdırın.\n",
        "\n",
        "\n",
        "Beden Kitle İndeksi, kişinin ağırlığının (kg olarak) boyunun karesine (m olarak) bölünmesiyle hesaplanır.\n",
        "\n",
        "\n",
        "```\n",
        " BKİ 18.5'un altındaysa -------> Zayıf\n",
        "\n",
        " BKİ 18.5 ile 25 arasındaysa ------> Normal\n",
        "\n",
        " BKİ 25 ile 30 arasındaysa --------> Fazla Kilolu\n",
        "\n",
        " BKİ 30'un üstündeyse -------------> Obez\n",
        "```\n",
        "\n"
      ]
    },
    {
      "cell_type": "code",
      "execution_count": 19,
      "metadata": {
        "id": "t-XPI_u0_Te-"
      },
      "outputs": [
        {
          "name": "stdout",
          "output_type": "stream",
          "text": [
            "obez\n"
          ]
        }
      ],
      "source": [
        "# 5.Problemin Çözümünü Buraya Yazınız\n",
        "\n",
        "boy = float(input(\"boyunuzu m cinsinden giriniz:\"))\n",
        "kilo = float(input(\"kilonuzu kg cinsinden giriniz:\"))\n",
        "\n",
        "bedenKitleEndeksi = kilo // boy**2\n",
        "#print(bedenKitleEndeksi) kontrol amaçlı\n",
        "\n",
        "if bedenKitleEndeksi < 18.5:\n",
        "    print(\"zayıf\")\n",
        "elif bedenKitleEndeksi >= 18.5  and bedenKitleEndeksi < 25:\n",
        "    print(\"normal\")\n",
        "elif bedenKitleEndeksi >=25 and bedenKitleEndeksi <30:\n",
        "    print(\"fazla kilolu\")\n",
        "else:\n",
        "    print(\"obez\")\n"
      ]
    },
    {
      "cell_type": "markdown",
      "metadata": {
        "id": "oFsvQyaO_Te-"
      },
      "source": [
        "# Problem 6\n",
        "Kullanıcıdan isim, yaş ve eğitim bilgilerini isteyip ehliyet alabilme  durumunu kontrol ediniz. \n",
        "\n",
        "Ehliyet alma koşulu en az 18 yaşında ve eğitim durumu lise ya da üniversite olmalıdır. "
      ]
    },
    {
      "cell_type": "code",
      "execution_count": 46,
      "metadata": {
        "id": "Tu2mcgco_Te-"
      },
      "outputs": [
        {
          "name": "stdout",
          "output_type": "stream",
          "text": [
            "ehliyet alabilirsiniz.\n"
          ]
        }
      ],
      "source": [
        "# 6.Problemin Çözümünü Buraya Yazınız\n",
        "\n",
        "isim = str(input(\"isminizi yazınız:\"))\n",
        "yas = int(input(\"yaşınızı giriniz:\"))\n",
        "egitim = str(input(\"eğitim durmunuzu giriniz:\"))\n",
        "\n",
        "if yas >= 18:\n",
        "    print(\"ehliyet alabilirsiniz.\")\n",
        "elif egitim == \"lise\" or \"üniversite\":\n",
        "    print(\"ehliyet alabilirsiniz.\")\n",
        "else:\n",
        "    print(\"üzgünüz, ehliyet almak için gerekli kriterleri sağlayamadınız.\")"
      ]
    },
    {
      "cell_type": "markdown",
      "metadata": {
        "id": "eUkxVSAE_Te_"
      },
      "source": [
        "# Problem 7\n",
        "Bir yılın artık yıl olup olmadığını kontrol etmek için bir program yazın. \n",
        "Artık yıl kuralı:\n",
        "\n",
        "a) Eğer yılın son iki basamağı (00) ile bitmiyor ve yalnızca 4'e tam bölünüyorsa artık yıldır. Ya da, \n",
        "\n",
        "b) Eğer yıl 400'e tam bölünüyorsa artık yıldır.\n",
        "\n",
        "**Örneğin**\n",
        "```\n",
        "2017 artık yıl değildir.\n",
        "1900 artık yıl değildir\n",
        "2012 artık yıldır.\n",
        "2000 artık yıldır.\n",
        "```"
      ]
    },
    {
      "cell_type": "code",
      "execution_count": 38,
      "metadata": {
        "id": "4uWh8qUL_Te_"
      },
      "outputs": [
        {
          "name": "stdout",
          "output_type": "stream",
          "text": [
            "yazdığın yıl artık yıldır.\n"
          ]
        }
      ],
      "source": [
        "# 7.Problemin Çözümünü Buraya Yazınız\n",
        "\n",
        "yıl = int(input(\"bir yıl giriniz:\"))\n",
        "if yıl %100 != 0 and yıl %4 == 0:\n",
        "    print(\"yazdığın yıl artık yıldır.\")\n",
        "elif yıl %400 == 0:\n",
        "    print(\"yazdığın yıl artık yıldır.\")\n",
        "else:\n",
        "    print(\"yazdığın yıl artık yıl değildir.\")"
      ]
    }
  ],
  "metadata": {
    "colab": {
      "provenance": []
    },
    "kernelspec": {
      "display_name": "Python 3",
      "language": "python",
      "name": "python3"
    },
    "language_info": {
      "codemirror_mode": {
        "name": "ipython",
        "version": 3
      },
      "file_extension": ".py",
      "mimetype": "text/x-python",
      "name": "python",
      "nbconvert_exporter": "python",
      "pygments_lexer": "ipython3",
      "version": "3.10.8"
    },
    "orig_nbformat": 4,
    "vscode": {
      "interpreter": {
        "hash": "fb4569285eef3a3450cb62085a5b1e0da4bce0af555edc33dcf29baf3acc1368"
      }
    }
  },
  "nbformat": 4,
  "nbformat_minor": 0
}
